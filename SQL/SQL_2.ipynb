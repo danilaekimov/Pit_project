{
 "cells": [
  {
   "cell_type": "markdown",
   "id": "bd0d25a9",
   "metadata": {},
   "source": [
    "**Задание 1**\n",
    "\n",
    "Импортируйте нужный библиотеки"
   ]
  },
  {
   "cell_type": "code",
   "execution_count": 1,
   "id": "95754a93",
   "metadata": {},
   "outputs": [],
   "source": [
    "import psycopg2 as ps\n",
    "import pandas as pd"
   ]
  },
  {
   "cell_type": "markdown",
   "id": "49468a63",
   "metadata": {},
   "source": [
    "**Задание 2**\n",
    "\n",
    "В переменную conn запишите данные для подключения к базе данных"
   ]
  },
  {
   "cell_type": "code",
   "execution_count": 2,
   "id": "8ebadaf9",
   "metadata": {},
   "outputs": [],
   "source": [
    "conn = ps.connect(host='localhost', port = 5432, database='demo', user='postgres', password='0000',\n",
    "                  options='-c search_path=bookings')"
   ]
  },
  {
   "cell_type": "markdown",
   "id": "51f24936",
   "metadata": {},
   "source": [
    "**Задание 3**\n",
    "\n",
    "Выгрузите из таблицы airports поля airport_name, city, timezone\n"
   ]
  },
  {
   "cell_type": "code",
   "execution_count": 7,
   "id": "ae5fc2c9",
   "metadata": {},
   "outputs": [
    {
     "name": "stderr",
     "output_type": "stream",
     "text": [
      "C:\\Users\\School252\\anaconda3\\lib\\site-packages\\pandas\\io\\sql.py:761: UserWarning: pandas only support SQLAlchemy connectable(engine/connection) ordatabase string URI or sqlite3 DBAPI2 connectionother DBAPI2 objects are not tested, please consider using SQLAlchemy\n",
      "  warnings.warn(\n"
     ]
    },
    {
     "data": {
      "text/html": [
       "<div>\n",
       "<style scoped>\n",
       "    .dataframe tbody tr th:only-of-type {\n",
       "        vertical-align: middle;\n",
       "    }\n",
       "\n",
       "    .dataframe tbody tr th {\n",
       "        vertical-align: top;\n",
       "    }\n",
       "\n",
       "    .dataframe thead th {\n",
       "        text-align: right;\n",
       "    }\n",
       "</style>\n",
       "<table border=\"1\" class=\"dataframe\">\n",
       "  <thead>\n",
       "    <tr style=\"text-align: right;\">\n",
       "      <th></th>\n",
       "      <th>airport_name</th>\n",
       "      <th>city</th>\n",
       "      <th>timezone</th>\n",
       "    </tr>\n",
       "  </thead>\n",
       "  <tbody>\n",
       "    <tr>\n",
       "      <th>0</th>\n",
       "      <td>Якутск</td>\n",
       "      <td>Якутск</td>\n",
       "      <td>Asia/Yakutsk</td>\n",
       "    </tr>\n",
       "    <tr>\n",
       "      <th>1</th>\n",
       "      <td>Мирный</td>\n",
       "      <td>Мирный</td>\n",
       "      <td>Asia/Yakutsk</td>\n",
       "    </tr>\n",
       "    <tr>\n",
       "      <th>2</th>\n",
       "      <td>Хабаровск-Новый</td>\n",
       "      <td>Хабаровск</td>\n",
       "      <td>Asia/Vladivostok</td>\n",
       "    </tr>\n",
       "    <tr>\n",
       "      <th>3</th>\n",
       "      <td>Елизово</td>\n",
       "      <td>Петропавловск-Камчатский</td>\n",
       "      <td>Asia/Kamchatka</td>\n",
       "    </tr>\n",
       "    <tr>\n",
       "      <th>4</th>\n",
       "      <td>Хомутово</td>\n",
       "      <td>Южно-Сахалинск</td>\n",
       "      <td>Asia/Sakhalin</td>\n",
       "    </tr>\n",
       "    <tr>\n",
       "      <th>...</th>\n",
       "      <td>...</td>\n",
       "      <td>...</td>\n",
       "      <td>...</td>\n",
       "    </tr>\n",
       "    <tr>\n",
       "      <th>99</th>\n",
       "      <td>Мурманск</td>\n",
       "      <td>Мурманск</td>\n",
       "      <td>Europe/Moscow</td>\n",
       "    </tr>\n",
       "    <tr>\n",
       "      <th>100</th>\n",
       "      <td>Абакан</td>\n",
       "      <td>Абакан</td>\n",
       "      <td>Asia/Krasnoyarsk</td>\n",
       "    </tr>\n",
       "    <tr>\n",
       "      <th>101</th>\n",
       "      <td>Барнаул</td>\n",
       "      <td>Барнаул</td>\n",
       "      <td>Asia/Krasnoyarsk</td>\n",
       "    </tr>\n",
       "    <tr>\n",
       "      <th>102</th>\n",
       "      <td>Витязево</td>\n",
       "      <td>Анапа</td>\n",
       "      <td>Europe/Moscow</td>\n",
       "    </tr>\n",
       "    <tr>\n",
       "      <th>103</th>\n",
       "      <td>Чульман</td>\n",
       "      <td>Нерюнгри</td>\n",
       "      <td>Asia/Yakutsk</td>\n",
       "    </tr>\n",
       "  </tbody>\n",
       "</table>\n",
       "<p>104 rows × 3 columns</p>\n",
       "</div>"
      ],
      "text/plain": [
       "        airport_name                      city          timezone\n",
       "0             Якутск                    Якутск      Asia/Yakutsk\n",
       "1             Мирный                    Мирный      Asia/Yakutsk\n",
       "2    Хабаровск-Новый                 Хабаровск  Asia/Vladivostok\n",
       "3            Елизово  Петропавловск-Камчатский    Asia/Kamchatka\n",
       "4           Хомутово            Южно-Сахалинск     Asia/Sakhalin\n",
       "..               ...                       ...               ...\n",
       "99          Мурманск                  Мурманск     Europe/Moscow\n",
       "100           Абакан                    Абакан  Asia/Krasnoyarsk\n",
       "101          Барнаул                   Барнаул  Asia/Krasnoyarsk\n",
       "102         Витязево                     Анапа     Europe/Moscow\n",
       "103          Чульман                  Нерюнгри      Asia/Yakutsk\n",
       "\n",
       "[104 rows x 3 columns]"
      ]
     },
     "execution_count": 7,
     "metadata": {},
     "output_type": "execute_result"
    }
   ],
   "source": [
    "airport = pd.read_sql(\"SELECT airport_name, city, timezone FROM airports;\", con=conn)\n",
    "airport"
   ]
  },
  {
   "cell_type": "markdown",
   "id": "cff1787a",
   "metadata": {},
   "source": [
    "**Задание 4**\n",
    "\n",
    "Выгрузите первые четыре поля из таблицы Tickets. Ограничьте выгрузку первыми 10 записями.\n"
   ]
  },
  {
   "cell_type": "code",
   "execution_count": 9,
   "id": "b973c07d",
   "metadata": {},
   "outputs": [
    {
     "name": "stderr",
     "output_type": "stream",
     "text": [
      "C:\\Users\\School252\\anaconda3\\lib\\site-packages\\pandas\\io\\sql.py:761: UserWarning: pandas only support SQLAlchemy connectable(engine/connection) ordatabase string URI or sqlite3 DBAPI2 connectionother DBAPI2 objects are not tested, please consider using SQLAlchemy\n",
      "  warnings.warn(\n"
     ]
    },
    {
     "data": {
      "text/html": [
       "<div>\n",
       "<style scoped>\n",
       "    .dataframe tbody tr th:only-of-type {\n",
       "        vertical-align: middle;\n",
       "    }\n",
       "\n",
       "    .dataframe tbody tr th {\n",
       "        vertical-align: top;\n",
       "    }\n",
       "\n",
       "    .dataframe thead th {\n",
       "        text-align: right;\n",
       "    }\n",
       "</style>\n",
       "<table border=\"1\" class=\"dataframe\">\n",
       "  <thead>\n",
       "    <tr style=\"text-align: right;\">\n",
       "      <th></th>\n",
       "      <th>ticket_no</th>\n",
       "      <th>book_ref</th>\n",
       "      <th>passenger_id</th>\n",
       "      <th>passenger_name</th>\n",
       "    </tr>\n",
       "  </thead>\n",
       "  <tbody>\n",
       "    <tr>\n",
       "      <th>0</th>\n",
       "      <td>0005432000987</td>\n",
       "      <td>06B046</td>\n",
       "      <td>8149 604011</td>\n",
       "      <td>VALERIY TIKHONOV</td>\n",
       "    </tr>\n",
       "    <tr>\n",
       "      <th>1</th>\n",
       "      <td>0005432000988</td>\n",
       "      <td>06B046</td>\n",
       "      <td>8499 420203</td>\n",
       "      <td>EVGENIYA ALEKSEEVA</td>\n",
       "    </tr>\n",
       "    <tr>\n",
       "      <th>2</th>\n",
       "      <td>0005432000989</td>\n",
       "      <td>E170C3</td>\n",
       "      <td>1011 752484</td>\n",
       "      <td>ARTUR GERASIMOV</td>\n",
       "    </tr>\n",
       "    <tr>\n",
       "      <th>3</th>\n",
       "      <td>0005432000990</td>\n",
       "      <td>E170C3</td>\n",
       "      <td>4849 400049</td>\n",
       "      <td>ALINA VOLKOVA</td>\n",
       "    </tr>\n",
       "    <tr>\n",
       "      <th>4</th>\n",
       "      <td>0005432000991</td>\n",
       "      <td>F313DD</td>\n",
       "      <td>6615 976589</td>\n",
       "      <td>MAKSIM ZHUKOV</td>\n",
       "    </tr>\n",
       "    <tr>\n",
       "      <th>5</th>\n",
       "      <td>0005432000992</td>\n",
       "      <td>F313DD</td>\n",
       "      <td>2021 652719</td>\n",
       "      <td>NIKOLAY EGOROV</td>\n",
       "    </tr>\n",
       "    <tr>\n",
       "      <th>6</th>\n",
       "      <td>0005432000993</td>\n",
       "      <td>F313DD</td>\n",
       "      <td>0817 363231</td>\n",
       "      <td>TATYANA KUZNECOVA</td>\n",
       "    </tr>\n",
       "    <tr>\n",
       "      <th>7</th>\n",
       "      <td>0005432000994</td>\n",
       "      <td>CCC5CB</td>\n",
       "      <td>2883 989356</td>\n",
       "      <td>IRINA ANTONOVA</td>\n",
       "    </tr>\n",
       "    <tr>\n",
       "      <th>8</th>\n",
       "      <td>0005432000995</td>\n",
       "      <td>CCC5CB</td>\n",
       "      <td>3097 995546</td>\n",
       "      <td>VALENTINA KUZNECOVA</td>\n",
       "    </tr>\n",
       "    <tr>\n",
       "      <th>9</th>\n",
       "      <td>0005432000996</td>\n",
       "      <td>1FB1E4</td>\n",
       "      <td>6866 920231</td>\n",
       "      <td>POLINA ZHURAVLEVA</td>\n",
       "    </tr>\n",
       "  </tbody>\n",
       "</table>\n",
       "</div>"
      ],
      "text/plain": [
       "       ticket_no book_ref passenger_id       passenger_name\n",
       "0  0005432000987   06B046  8149 604011     VALERIY TIKHONOV\n",
       "1  0005432000988   06B046  8499 420203   EVGENIYA ALEKSEEVA\n",
       "2  0005432000989   E170C3  1011 752484      ARTUR GERASIMOV\n",
       "3  0005432000990   E170C3  4849 400049        ALINA VOLKOVA\n",
       "4  0005432000991   F313DD  6615 976589        MAKSIM ZHUKOV\n",
       "5  0005432000992   F313DD  2021 652719       NIKOLAY EGOROV\n",
       "6  0005432000993   F313DD  0817 363231    TATYANA KUZNECOVA\n",
       "7  0005432000994   CCC5CB  2883 989356       IRINA ANTONOVA\n",
       "8  0005432000995   CCC5CB  3097 995546  VALENTINA KUZNECOVA\n",
       "9  0005432000996   1FB1E4  6866 920231    POLINA ZHURAVLEVA"
      ]
     },
     "execution_count": 9,
     "metadata": {},
     "output_type": "execute_result"
    }
   ],
   "source": [
    "tickets = pd.read_sql('SELECT ticket_no, book_ref, passenger_id, passenger_name FROM tickets LIMIT 10;', con=conn)\n",
    "tickets"
   ]
  },
  {
   "cell_type": "markdown",
   "id": "b24f5eca",
   "metadata": {},
   "source": [
    "**Задание 5**\n",
    "\n",
    "Выведите первые 20 записей из таблицы flights. Оставьте в итоговой таблице только два поля: scheduled_departure и departure_airport"
   ]
  },
  {
   "cell_type": "code",
   "execution_count": 10,
   "id": "e71a35a3",
   "metadata": {},
   "outputs": [
    {
     "name": "stderr",
     "output_type": "stream",
     "text": [
      "C:\\Users\\School252\\anaconda3\\lib\\site-packages\\pandas\\io\\sql.py:761: UserWarning: pandas only support SQLAlchemy connectable(engine/connection) ordatabase string URI or sqlite3 DBAPI2 connectionother DBAPI2 objects are not tested, please consider using SQLAlchemy\n",
      "  warnings.warn(\n"
     ]
    },
    {
     "data": {
      "text/html": [
       "<div>\n",
       "<style scoped>\n",
       "    .dataframe tbody tr th:only-of-type {\n",
       "        vertical-align: middle;\n",
       "    }\n",
       "\n",
       "    .dataframe tbody tr th {\n",
       "        vertical-align: top;\n",
       "    }\n",
       "\n",
       "    .dataframe thead th {\n",
       "        text-align: right;\n",
       "    }\n",
       "</style>\n",
       "<table border=\"1\" class=\"dataframe\">\n",
       "  <thead>\n",
       "    <tr style=\"text-align: right;\">\n",
       "      <th></th>\n",
       "      <th>scheduled_departure</th>\n",
       "      <th>departure_airport</th>\n",
       "    </tr>\n",
       "  </thead>\n",
       "  <tbody>\n",
       "    <tr>\n",
       "      <th>0</th>\n",
       "      <td>2017-09-10 06:50:00+00:00</td>\n",
       "      <td>DME</td>\n",
       "    </tr>\n",
       "    <tr>\n",
       "      <th>1</th>\n",
       "      <td>2017-08-25 11:50:00+00:00</td>\n",
       "      <td>VKO</td>\n",
       "    </tr>\n",
       "    <tr>\n",
       "      <th>2</th>\n",
       "      <td>2017-09-05 09:30:00+00:00</td>\n",
       "      <td>VKO</td>\n",
       "    </tr>\n",
       "    <tr>\n",
       "      <th>3</th>\n",
       "      <td>2017-09-12 06:50:00+00:00</td>\n",
       "      <td>SVO</td>\n",
       "    </tr>\n",
       "    <tr>\n",
       "      <th>4</th>\n",
       "      <td>2017-09-04 09:25:00+00:00</td>\n",
       "      <td>SVO</td>\n",
       "    </tr>\n",
       "    <tr>\n",
       "      <th>5</th>\n",
       "      <td>2017-09-10 12:00:00+00:00</td>\n",
       "      <td>SVO</td>\n",
       "    </tr>\n",
       "    <tr>\n",
       "      <th>6</th>\n",
       "      <td>2017-08-28 06:00:00+00:00</td>\n",
       "      <td>LED</td>\n",
       "    </tr>\n",
       "    <tr>\n",
       "      <th>7</th>\n",
       "      <td>2017-08-24 12:05:00+00:00</td>\n",
       "      <td>SVX</td>\n",
       "    </tr>\n",
       "    <tr>\n",
       "      <th>8</th>\n",
       "      <td>2017-09-12 07:15:00+00:00</td>\n",
       "      <td>KZN</td>\n",
       "    </tr>\n",
       "    <tr>\n",
       "      <th>9</th>\n",
       "      <td>2017-08-26 13:05:00+00:00</td>\n",
       "      <td>KZN</td>\n",
       "    </tr>\n",
       "    <tr>\n",
       "      <th>10</th>\n",
       "      <td>2017-08-18 13:25:00+00:00</td>\n",
       "      <td>ROV</td>\n",
       "    </tr>\n",
       "    <tr>\n",
       "      <th>11</th>\n",
       "      <td>2017-09-06 04:05:00+00:00</td>\n",
       "      <td>PEE</td>\n",
       "    </tr>\n",
       "    <tr>\n",
       "      <th>12</th>\n",
       "      <td>2017-09-05 09:25:00+00:00</td>\n",
       "      <td>JOK</td>\n",
       "    </tr>\n",
       "    <tr>\n",
       "      <th>13</th>\n",
       "      <td>2017-09-14 09:25:00+00:00</td>\n",
       "      <td>SCW</td>\n",
       "    </tr>\n",
       "    <tr>\n",
       "      <th>14</th>\n",
       "      <td>2017-09-11 03:35:00+00:00</td>\n",
       "      <td>MJZ</td>\n",
       "    </tr>\n",
       "    <tr>\n",
       "      <th>15</th>\n",
       "      <td>2017-08-31 08:35:00+00:00</td>\n",
       "      <td>UUA</td>\n",
       "    </tr>\n",
       "    <tr>\n",
       "      <th>16</th>\n",
       "      <td>2017-08-26 07:55:00+00:00</td>\n",
       "      <td>UUA</td>\n",
       "    </tr>\n",
       "    <tr>\n",
       "      <th>17</th>\n",
       "      <td>2017-09-02 03:50:00+00:00</td>\n",
       "      <td>SWT</td>\n",
       "    </tr>\n",
       "    <tr>\n",
       "      <th>18</th>\n",
       "      <td>2017-09-05 06:15:00+00:00</td>\n",
       "      <td>EYK</td>\n",
       "    </tr>\n",
       "    <tr>\n",
       "      <th>19</th>\n",
       "      <td>2017-08-26 12:00:00+00:00</td>\n",
       "      <td>TJM</td>\n",
       "    </tr>\n",
       "  </tbody>\n",
       "</table>\n",
       "</div>"
      ],
      "text/plain": [
       "         scheduled_departure departure_airport\n",
       "0  2017-09-10 06:50:00+00:00               DME\n",
       "1  2017-08-25 11:50:00+00:00               VKO\n",
       "2  2017-09-05 09:30:00+00:00               VKO\n",
       "3  2017-09-12 06:50:00+00:00               SVO\n",
       "4  2017-09-04 09:25:00+00:00               SVO\n",
       "5  2017-09-10 12:00:00+00:00               SVO\n",
       "6  2017-08-28 06:00:00+00:00               LED\n",
       "7  2017-08-24 12:05:00+00:00               SVX\n",
       "8  2017-09-12 07:15:00+00:00               KZN\n",
       "9  2017-08-26 13:05:00+00:00               KZN\n",
       "10 2017-08-18 13:25:00+00:00               ROV\n",
       "11 2017-09-06 04:05:00+00:00               PEE\n",
       "12 2017-09-05 09:25:00+00:00               JOK\n",
       "13 2017-09-14 09:25:00+00:00               SCW\n",
       "14 2017-09-11 03:35:00+00:00               MJZ\n",
       "15 2017-08-31 08:35:00+00:00               UUA\n",
       "16 2017-08-26 07:55:00+00:00               UUA\n",
       "17 2017-09-02 03:50:00+00:00               SWT\n",
       "18 2017-09-05 06:15:00+00:00               EYK\n",
       "19 2017-08-26 12:00:00+00:00               TJM"
      ]
     },
     "execution_count": 10,
     "metadata": {},
     "output_type": "execute_result"
    }
   ],
   "source": [
    "flights = pd.read_sql('SELECT scheduled_departure, departure_airport FROM flights LIMIT 20;', con=conn)\n",
    "flights.head()"
   ]
  },
  {
   "cell_type": "markdown",
   "id": "25c6e123",
   "metadata": {},
   "source": [
    "**Задание 6**\n",
    "\n",
    "Выгрузите из таблицы Bookings поля book_ref и book_date. Оба поля должны быть строками.\n",
    "\n",
    "Используйте тип данных для строк нефиксированной длины."
   ]
  },
  {
   "cell_type": "code",
   "execution_count": 22,
   "id": "45644898",
   "metadata": {},
   "outputs": [
    {
     "name": "stderr",
     "output_type": "stream",
     "text": [
      "C:\\Users\\School252\\anaconda3\\lib\\site-packages\\pandas\\io\\sql.py:761: UserWarning: pandas only support SQLAlchemy connectable(engine/connection) ordatabase string URI or sqlite3 DBAPI2 connectionother DBAPI2 objects are not tested, please consider using SQLAlchemy\n",
      "  warnings.warn(\n"
     ]
    },
    {
     "data": {
      "text/html": [
       "<div>\n",
       "<style scoped>\n",
       "    .dataframe tbody tr th:only-of-type {\n",
       "        vertical-align: middle;\n",
       "    }\n",
       "\n",
       "    .dataframe tbody tr th {\n",
       "        vertical-align: top;\n",
       "    }\n",
       "\n",
       "    .dataframe thead th {\n",
       "        text-align: right;\n",
       "    }\n",
       "</style>\n",
       "<table border=\"1\" class=\"dataframe\">\n",
       "  <thead>\n",
       "    <tr style=\"text-align: right;\">\n",
       "      <th></th>\n",
       "      <th>book_ref</th>\n",
       "      <th>book_date</th>\n",
       "    </tr>\n",
       "  </thead>\n",
       "  <tbody>\n",
       "    <tr>\n",
       "      <th>0</th>\n",
       "      <td>00000F</td>\n",
       "      <td>2017-07-05 03:12:00+03</td>\n",
       "    </tr>\n",
       "    <tr>\n",
       "      <th>1</th>\n",
       "      <td>000012</td>\n",
       "      <td>2017-07-14 09:02:00+03</td>\n",
       "    </tr>\n",
       "    <tr>\n",
       "      <th>2</th>\n",
       "      <td>000068</td>\n",
       "      <td>2017-08-15 14:27:00+03</td>\n",
       "    </tr>\n",
       "    <tr>\n",
       "      <th>3</th>\n",
       "      <td>000181</td>\n",
       "      <td>2017-08-10 13:28:00+03</td>\n",
       "    </tr>\n",
       "    <tr>\n",
       "      <th>4</th>\n",
       "      <td>0002D8</td>\n",
       "      <td>2017-08-07 21:40:00+03</td>\n",
       "    </tr>\n",
       "  </tbody>\n",
       "</table>\n",
       "</div>"
      ],
      "text/plain": [
       "  book_ref               book_date\n",
       "0   00000F  2017-07-05 03:12:00+03\n",
       "1   000012  2017-07-14 09:02:00+03\n",
       "2   000068  2017-08-15 14:27:00+03\n",
       "3   000181  2017-08-10 13:28:00+03\n",
       "4   0002D8  2017-08-07 21:40:00+03"
      ]
     },
     "execution_count": 22,
     "metadata": {},
     "output_type": "execute_result"
    }
   ],
   "source": [
    "bookings = pd.read_sql('SELECT CAST(book_ref AS varchar), CAST(book_date AS varchar) FROM bookings;', con=conn)\n",
    "bookings.head()"
   ]
  },
  {
   "cell_type": "markdown",
   "id": "bd3b4b5f",
   "metadata": {},
   "source": [
    "**Задание 7**\n",
    "\n",
    "Выгрузите из таблицы Bookings поле total_amount. Оставьте только целую часть числа."
   ]
  },
  {
   "cell_type": "code",
   "execution_count": 23,
   "id": "5edfa96c",
   "metadata": {},
   "outputs": [
    {
     "name": "stderr",
     "output_type": "stream",
     "text": [
      "C:\\Users\\School252\\anaconda3\\lib\\site-packages\\pandas\\io\\sql.py:761: UserWarning: pandas only support SQLAlchemy connectable(engine/connection) ordatabase string URI or sqlite3 DBAPI2 connectionother DBAPI2 objects are not tested, please consider using SQLAlchemy\n",
      "  warnings.warn(\n"
     ]
    },
    {
     "data": {
      "text/html": [
       "<div>\n",
       "<style scoped>\n",
       "    .dataframe tbody tr th:only-of-type {\n",
       "        vertical-align: middle;\n",
       "    }\n",
       "\n",
       "    .dataframe tbody tr th {\n",
       "        vertical-align: top;\n",
       "    }\n",
       "\n",
       "    .dataframe thead th {\n",
       "        text-align: right;\n",
       "    }\n",
       "</style>\n",
       "<table border=\"1\" class=\"dataframe\">\n",
       "  <thead>\n",
       "    <tr style=\"text-align: right;\">\n",
       "      <th></th>\n",
       "      <th>total_amount</th>\n",
       "    </tr>\n",
       "  </thead>\n",
       "  <tbody>\n",
       "    <tr>\n",
       "      <th>0</th>\n",
       "      <td>265700</td>\n",
       "    </tr>\n",
       "    <tr>\n",
       "      <th>1</th>\n",
       "      <td>37900</td>\n",
       "    </tr>\n",
       "    <tr>\n",
       "      <th>2</th>\n",
       "      <td>18100</td>\n",
       "    </tr>\n",
       "    <tr>\n",
       "      <th>3</th>\n",
       "      <td>131800</td>\n",
       "    </tr>\n",
       "    <tr>\n",
       "      <th>4</th>\n",
       "      <td>23600</td>\n",
       "    </tr>\n",
       "  </tbody>\n",
       "</table>\n",
       "</div>"
      ],
      "text/plain": [
       "   total_amount\n",
       "0        265700\n",
       "1         37900\n",
       "2         18100\n",
       "3        131800\n",
       "4         23600"
      ]
     },
     "execution_count": 23,
     "metadata": {},
     "output_type": "execute_result"
    }
   ],
   "source": [
    "bookings1 = pd.read_sql('SELECT CAST(total_amount AS int) FROM bookings;', con=conn)\n",
    "bookings1.head()"
   ]
  },
  {
   "cell_type": "markdown",
   "id": "4b00b285",
   "metadata": {},
   "source": [
    "**Задание 8**\n",
    "\n",
    "Выгрузите из таблицы flights дни перелетов. Необходимые значения в виде строк хранит поле scheduled_departure. \n",
    "\n",
    "\n",
    "Сформируйте запрос так, чтобы на экране отобразилась только дата."
   ]
  },
  {
   "cell_type": "code",
   "execution_count": 25,
   "id": "b7cd3fd2",
   "metadata": {},
   "outputs": [
    {
     "name": "stderr",
     "output_type": "stream",
     "text": [
      "C:\\Users\\School252\\anaconda3\\lib\\site-packages\\pandas\\io\\sql.py:761: UserWarning: pandas only support SQLAlchemy connectable(engine/connection) ordatabase string URI or sqlite3 DBAPI2 connectionother DBAPI2 objects are not tested, please consider using SQLAlchemy\n",
      "  warnings.warn(\n"
     ]
    },
    {
     "data": {
      "text/html": [
       "<div>\n",
       "<style scoped>\n",
       "    .dataframe tbody tr th:only-of-type {\n",
       "        vertical-align: middle;\n",
       "    }\n",
       "\n",
       "    .dataframe tbody tr th {\n",
       "        vertical-align: top;\n",
       "    }\n",
       "\n",
       "    .dataframe thead th {\n",
       "        text-align: right;\n",
       "    }\n",
       "</style>\n",
       "<table border=\"1\" class=\"dataframe\">\n",
       "  <thead>\n",
       "    <tr style=\"text-align: right;\">\n",
       "      <th></th>\n",
       "      <th>scheduled_departure</th>\n",
       "    </tr>\n",
       "  </thead>\n",
       "  <tbody>\n",
       "    <tr>\n",
       "      <th>0</th>\n",
       "      <td>2017-09-10</td>\n",
       "    </tr>\n",
       "    <tr>\n",
       "      <th>1</th>\n",
       "      <td>2017-08-25</td>\n",
       "    </tr>\n",
       "    <tr>\n",
       "      <th>2</th>\n",
       "      <td>2017-09-05</td>\n",
       "    </tr>\n",
       "    <tr>\n",
       "      <th>3</th>\n",
       "      <td>2017-09-12</td>\n",
       "    </tr>\n",
       "    <tr>\n",
       "      <th>4</th>\n",
       "      <td>2017-09-04</td>\n",
       "    </tr>\n",
       "  </tbody>\n",
       "</table>\n",
       "</div>"
      ],
      "text/plain": [
       "  scheduled_departure\n",
       "0          2017-09-10\n",
       "1          2017-08-25\n",
       "2          2017-09-05\n",
       "3          2017-09-12\n",
       "4          2017-09-04"
      ]
     },
     "execution_count": 25,
     "metadata": {},
     "output_type": "execute_result"
    }
   ],
   "source": [
    "flights_1 = pd.read_sql('SELECT CAST(scheduled_departure AS date) FROM flights;', con=conn)\n",
    "flights_1.head()"
   ]
  },
  {
   "cell_type": "markdown",
   "id": "1748a7ab",
   "metadata": {},
   "source": [
    "**Задание 9**\n",
    "\n",
    "Выгрузите из таблицы flights время отправления. Необходимые значения в виде строк хранит поле scheduled_departure. \n",
    "\n",
    "\n",
    "Сформируйте запрос так, чтобы на экране отобразилась только время."
   ]
  },
  {
   "cell_type": "code",
   "execution_count": 26,
   "id": "133627da",
   "metadata": {},
   "outputs": [
    {
     "name": "stderr",
     "output_type": "stream",
     "text": [
      "C:\\Users\\School252\\anaconda3\\lib\\site-packages\\pandas\\io\\sql.py:761: UserWarning: pandas only support SQLAlchemy connectable(engine/connection) ordatabase string URI or sqlite3 DBAPI2 connectionother DBAPI2 objects are not tested, please consider using SQLAlchemy\n",
      "  warnings.warn(\n"
     ]
    },
    {
     "data": {
      "text/html": [
       "<div>\n",
       "<style scoped>\n",
       "    .dataframe tbody tr th:only-of-type {\n",
       "        vertical-align: middle;\n",
       "    }\n",
       "\n",
       "    .dataframe tbody tr th {\n",
       "        vertical-align: top;\n",
       "    }\n",
       "\n",
       "    .dataframe thead th {\n",
       "        text-align: right;\n",
       "    }\n",
       "</style>\n",
       "<table border=\"1\" class=\"dataframe\">\n",
       "  <thead>\n",
       "    <tr style=\"text-align: right;\">\n",
       "      <th></th>\n",
       "      <th>scheduled_departure</th>\n",
       "    </tr>\n",
       "  </thead>\n",
       "  <tbody>\n",
       "    <tr>\n",
       "      <th>0</th>\n",
       "      <td>09:50:00</td>\n",
       "    </tr>\n",
       "    <tr>\n",
       "      <th>1</th>\n",
       "      <td>14:50:00</td>\n",
       "    </tr>\n",
       "    <tr>\n",
       "      <th>2</th>\n",
       "      <td>12:30:00</td>\n",
       "    </tr>\n",
       "    <tr>\n",
       "      <th>3</th>\n",
       "      <td>09:50:00</td>\n",
       "    </tr>\n",
       "    <tr>\n",
       "      <th>4</th>\n",
       "      <td>12:25:00</td>\n",
       "    </tr>\n",
       "  </tbody>\n",
       "</table>\n",
       "</div>"
      ],
      "text/plain": [
       "  scheduled_departure\n",
       "0            09:50:00\n",
       "1            14:50:00\n",
       "2            12:30:00\n",
       "3            09:50:00\n",
       "4            12:25:00"
      ]
     },
     "execution_count": 26,
     "metadata": {},
     "output_type": "execute_result"
    }
   ],
   "source": [
    "flights_2 = pd.read_sql('SELECT CAST(scheduled_departure AS time) FROM flights;', con=conn)\n",
    "flights_2.head()"
   ]
  },
  {
   "cell_type": "markdown",
   "id": "e6bfd441",
   "metadata": {},
   "source": [
    "**Задание 10**\n",
    "\n",
    "Изучите таблицу bookings\n",
    "\n",
    "\n",
    "Поле total_amount хранит общую стоимость включённых в бронирование перелетов всех пассажиров.\n",
    "\n",
    "Выгрузите все значения из таблицы, отфильтровав стоимостью перелета 50 000"
   ]
  },
  {
   "cell_type": "code",
   "execution_count": 27,
   "id": "b7fc17fd",
   "metadata": {},
   "outputs": [
    {
     "name": "stderr",
     "output_type": "stream",
     "text": [
      "C:\\Users\\School252\\anaconda3\\lib\\site-packages\\pandas\\io\\sql.py:761: UserWarning: pandas only support SQLAlchemy connectable(engine/connection) ordatabase string URI or sqlite3 DBAPI2 connectionother DBAPI2 objects are not tested, please consider using SQLAlchemy\n",
      "  warnings.warn(\n"
     ]
    },
    {
     "data": {
      "text/html": [
       "<div>\n",
       "<style scoped>\n",
       "    .dataframe tbody tr th:only-of-type {\n",
       "        vertical-align: middle;\n",
       "    }\n",
       "\n",
       "    .dataframe tbody tr th {\n",
       "        vertical-align: top;\n",
       "    }\n",
       "\n",
       "    .dataframe thead th {\n",
       "        text-align: right;\n",
       "    }\n",
       "</style>\n",
       "<table border=\"1\" class=\"dataframe\">\n",
       "  <thead>\n",
       "    <tr style=\"text-align: right;\">\n",
       "      <th></th>\n",
       "      <th>book_ref</th>\n",
       "      <th>book_date</th>\n",
       "      <th>total_amount</th>\n",
       "    </tr>\n",
       "  </thead>\n",
       "  <tbody>\n",
       "    <tr>\n",
       "      <th>0</th>\n",
       "      <td>00A48B</td>\n",
       "      <td>2017-07-11 16:29:00+00:00</td>\n",
       "      <td>50000.0</td>\n",
       "    </tr>\n",
       "    <tr>\n",
       "      <th>1</th>\n",
       "      <td>00CA80</td>\n",
       "      <td>2017-07-18 14:30:00+00:00</td>\n",
       "      <td>50000.0</td>\n",
       "    </tr>\n",
       "    <tr>\n",
       "      <th>2</th>\n",
       "      <td>014C33</td>\n",
       "      <td>2017-07-27 19:17:00+00:00</td>\n",
       "      <td>50000.0</td>\n",
       "    </tr>\n",
       "    <tr>\n",
       "      <th>3</th>\n",
       "      <td>014E39</td>\n",
       "      <td>2017-07-12 23:46:00+00:00</td>\n",
       "      <td>50000.0</td>\n",
       "    </tr>\n",
       "    <tr>\n",
       "      <th>4</th>\n",
       "      <td>016E4E</td>\n",
       "      <td>2017-08-05 12:45:00+00:00</td>\n",
       "      <td>50000.0</td>\n",
       "    </tr>\n",
       "  </tbody>\n",
       "</table>\n",
       "</div>"
      ],
      "text/plain": [
       "  book_ref                 book_date  total_amount\n",
       "0   00A48B 2017-07-11 16:29:00+00:00       50000.0\n",
       "1   00CA80 2017-07-18 14:30:00+00:00       50000.0\n",
       "2   014C33 2017-07-27 19:17:00+00:00       50000.0\n",
       "3   014E39 2017-07-12 23:46:00+00:00       50000.0\n",
       "4   016E4E 2017-08-05 12:45:00+00:00       50000.0"
      ]
     },
     "execution_count": 27,
     "metadata": {},
     "output_type": "execute_result"
    }
   ],
   "source": [
    "bookings2 = pd.read_sql('SELECT * FROM bookings WHERE total_amount=50000 ;', con=conn)\n",
    "bookings2.head()"
   ]
  },
  {
   "cell_type": "markdown",
   "id": "7e340fa1",
   "metadata": {},
   "source": [
    "**Задание 11**\n",
    "\n",
    "Изучите таблицу airports\n",
    "\n",
    "Выгрузите все значения из таблицы, отфильтровав по городу Санкт-Петербург"
   ]
  },
  {
   "cell_type": "code",
   "execution_count": 28,
   "id": "b15e01e5",
   "metadata": {},
   "outputs": [
    {
     "name": "stderr",
     "output_type": "stream",
     "text": [
      "C:\\Users\\School252\\anaconda3\\lib\\site-packages\\pandas\\io\\sql.py:761: UserWarning: pandas only support SQLAlchemy connectable(engine/connection) ordatabase string URI or sqlite3 DBAPI2 connectionother DBAPI2 objects are not tested, please consider using SQLAlchemy\n",
      "  warnings.warn(\n"
     ]
    },
    {
     "data": {
      "text/html": [
       "<div>\n",
       "<style scoped>\n",
       "    .dataframe tbody tr th:only-of-type {\n",
       "        vertical-align: middle;\n",
       "    }\n",
       "\n",
       "    .dataframe tbody tr th {\n",
       "        vertical-align: top;\n",
       "    }\n",
       "\n",
       "    .dataframe thead th {\n",
       "        text-align: right;\n",
       "    }\n",
       "</style>\n",
       "<table border=\"1\" class=\"dataframe\">\n",
       "  <thead>\n",
       "    <tr style=\"text-align: right;\">\n",
       "      <th></th>\n",
       "      <th>airport_code</th>\n",
       "      <th>airport_name</th>\n",
       "      <th>city</th>\n",
       "      <th>coordinates</th>\n",
       "      <th>timezone</th>\n",
       "    </tr>\n",
       "  </thead>\n",
       "  <tbody>\n",
       "    <tr>\n",
       "      <th>0</th>\n",
       "      <td>LED</td>\n",
       "      <td>Пулково</td>\n",
       "      <td>Санкт-Петербург</td>\n",
       "      <td>(30.262500762939453,59.80030059814453)</td>\n",
       "      <td>Europe/Moscow</td>\n",
       "    </tr>\n",
       "  </tbody>\n",
       "</table>\n",
       "</div>"
      ],
      "text/plain": [
       "  airport_code airport_name             city  \\\n",
       "0          LED      Пулково  Санкт-Петербург   \n",
       "\n",
       "                              coordinates       timezone  \n",
       "0  (30.262500762939453,59.80030059814453)  Europe/Moscow  "
      ]
     },
     "execution_count": 28,
     "metadata": {},
     "output_type": "execute_result"
    }
   ],
   "source": [
    "airport_1 = pd.read_sql(\"SELECT * FROM airports WHERE city = 'Санкт-Петербург';\", con=conn)\n",
    "airport_1"
   ]
  },
  {
   "cell_type": "markdown",
   "id": "8aaf2077",
   "metadata": {},
   "source": [
    "**Задание 12**\n",
    "\n",
    "Изучите таблицу aircrafts\n",
    "\n",
    "Выгрузите все значения из таблицы, отфильтровав по дальности перелета более 4000 км\n",
    "\n",
    "Столбец range хранит Максимальную дальность полета, км "
   ]
  },
  {
   "cell_type": "code",
   "execution_count": 29,
   "id": "d94e30f7",
   "metadata": {},
   "outputs": [
    {
     "name": "stderr",
     "output_type": "stream",
     "text": [
      "C:\\Users\\School252\\anaconda3\\lib\\site-packages\\pandas\\io\\sql.py:761: UserWarning: pandas only support SQLAlchemy connectable(engine/connection) ordatabase string URI or sqlite3 DBAPI2 connectionother DBAPI2 objects are not tested, please consider using SQLAlchemy\n",
      "  warnings.warn(\n"
     ]
    },
    {
     "data": {
      "text/html": [
       "<div>\n",
       "<style scoped>\n",
       "    .dataframe tbody tr th:only-of-type {\n",
       "        vertical-align: middle;\n",
       "    }\n",
       "\n",
       "    .dataframe tbody tr th {\n",
       "        vertical-align: top;\n",
       "    }\n",
       "\n",
       "    .dataframe thead th {\n",
       "        text-align: right;\n",
       "    }\n",
       "</style>\n",
       "<table border=\"1\" class=\"dataframe\">\n",
       "  <thead>\n",
       "    <tr style=\"text-align: right;\">\n",
       "      <th></th>\n",
       "      <th>aircraft_code</th>\n",
       "      <th>model</th>\n",
       "      <th>range</th>\n",
       "    </tr>\n",
       "  </thead>\n",
       "  <tbody>\n",
       "    <tr>\n",
       "      <th>0</th>\n",
       "      <td>773</td>\n",
       "      <td>Боинг 777-300</td>\n",
       "      <td>11100</td>\n",
       "    </tr>\n",
       "    <tr>\n",
       "      <th>1</th>\n",
       "      <td>763</td>\n",
       "      <td>Боинг 767-300</td>\n",
       "      <td>7900</td>\n",
       "    </tr>\n",
       "    <tr>\n",
       "      <th>2</th>\n",
       "      <td>320</td>\n",
       "      <td>Аэробус A320-200</td>\n",
       "      <td>5700</td>\n",
       "    </tr>\n",
       "    <tr>\n",
       "      <th>3</th>\n",
       "      <td>321</td>\n",
       "      <td>Аэробус A321-200</td>\n",
       "      <td>5600</td>\n",
       "    </tr>\n",
       "    <tr>\n",
       "      <th>4</th>\n",
       "      <td>319</td>\n",
       "      <td>Аэробус A319-100</td>\n",
       "      <td>6700</td>\n",
       "    </tr>\n",
       "    <tr>\n",
       "      <th>5</th>\n",
       "      <td>733</td>\n",
       "      <td>Боинг 737-300</td>\n",
       "      <td>4200</td>\n",
       "    </tr>\n",
       "  </tbody>\n",
       "</table>\n",
       "</div>"
      ],
      "text/plain": [
       "  aircraft_code             model  range\n",
       "0           773     Боинг 777-300  11100\n",
       "1           763     Боинг 767-300   7900\n",
       "2           320  Аэробус A320-200   5700\n",
       "3           321  Аэробус A321-200   5600\n",
       "4           319  Аэробус A319-100   6700\n",
       "5           733     Боинг 737-300   4200"
      ]
     },
     "execution_count": 29,
     "metadata": {},
     "output_type": "execute_result"
    }
   ],
   "source": [
    "aircrafts = pd.read_sql(\"SELECT * FROM aircrafts WHERE range > 4000\", con=conn)\n",
    "aircrafts"
   ]
  },
  {
   "cell_type": "code",
   "execution_count": null,
   "id": "70197d55",
   "metadata": {},
   "outputs": [],
   "source": []
  }
 ],
 "metadata": {
  "kernelspec": {
   "display_name": "Python 3 (ipykernel)",
   "language": "python",
   "name": "python3"
  },
  "language_info": {
   "codemirror_mode": {
    "name": "ipython",
    "version": 3
   },
   "file_extension": ".py",
   "mimetype": "text/x-python",
   "name": "python",
   "nbconvert_exporter": "python",
   "pygments_lexer": "ipython3",
   "version": "3.9.12"
  }
 },
 "nbformat": 4,
 "nbformat_minor": 5
}
