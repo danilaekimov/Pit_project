{
 "cells": [
  {
   "cell_type": "markdown",
   "id": "16796681",
   "metadata": {},
   "source": [
    "**Задание 1**\n",
    "\n",
    "Изучите таблицу Boarding_passes, которая хранит информацию по посадочным талона.\n",
    "\n",
    "Выгрузите все значения из таблицы, отфильтровав по идентификатору рейса, который равен 2055"
   ]
  },
  {
   "cell_type": "code",
   "execution_count": null,
   "id": "47c75b94",
   "metadata": {},
   "outputs": [],
   "source": []
  },
  {
   "cell_type": "markdown",
   "id": "129b6c92",
   "metadata": {},
   "source": [
    "**Задание 2**\n",
    "\n",
    "Изучите таблицу Boarding_passes, которая хранит информацию по посадочным талона.\n",
    "\n",
    "Выгрузите все значения из таблицы, отфильтровав по номеру места, который равен 4C"
   ]
  },
  {
   "cell_type": "code",
   "execution_count": null,
   "id": "09122e03",
   "metadata": {},
   "outputs": [],
   "source": []
  },
  {
   "cell_type": "markdown",
   "id": "e5c50aa1",
   "metadata": {},
   "source": [
    "**Задание 3**\n",
    "\n",
    "Отфильтровать таблицы routes по следующим критериям Город отправления Сочи и Город прибытия Санкт-Петербург\n",
    "\n"
   ]
  },
  {
   "cell_type": "code",
   "execution_count": null,
   "id": "558bd6bf",
   "metadata": {},
   "outputs": [],
   "source": []
  },
  {
   "cell_type": "markdown",
   "id": "d2895067",
   "metadata": {},
   "source": [
    "**Задание 4**\n",
    "\n",
    "Выгрузите из таблицы routes все значения, которые удовлетворяют следующим критериям: Продолжительность полета = '03:00:00'"
   ]
  },
  {
   "cell_type": "code",
   "execution_count": null,
   "id": "7f6fa165",
   "metadata": {},
   "outputs": [],
   "source": []
  },
  {
   "cell_type": "markdown",
   "id": "18a5ccdc",
   "metadata": {},
   "source": [
    "**Задание 5**\n",
    "\n",
    "Выгрузите из таблицы routes все значения, которые удовлетворяют следующим критериям:\n",
    "\n",
    "- Продолжительность полета < '03:00:00'\n",
    "\n",
    "- И город прибытия Санкт-Петербург"
   ]
  },
  {
   "cell_type": "markdown",
   "id": "e0557635",
   "metadata": {},
   "source": [
    "**Задание 6**\n",
    "\n",
    "Выгрузите из таблицы routes все значения, которые удовлетворяют следующим критериям:\n",
    "\n",
    "- Продолжительность полета > '03:00:00'\n",
    "\n",
    "- Город отправления Санкт-Петербург и Москва \n",
    "\n",
    "- Или город отправления Сочи"
   ]
  },
  {
   "cell_type": "markdown",
   "id": "a7b09acb",
   "metadata": {},
   "source": [
    "**Задание 7**\n",
    "\n",
    "Выгрузите из таблицы tickets все поля, где имя пассажира = IRINA"
   ]
  },
  {
   "cell_type": "code",
   "execution_count": null,
   "id": "1cee71af",
   "metadata": {},
   "outputs": [],
   "source": []
  },
  {
   "cell_type": "markdown",
   "id": "54ef52b1",
   "metadata": {},
   "source": [
    "**Задание 8**\n",
    "\n",
    "Выгрузите из таблицы airports_data все названия городов, в которых есть подстрока Asia в часовом поясе аэропорта"
   ]
  },
  {
   "cell_type": "code",
   "execution_count": null,
   "id": "c9fcb5a9",
   "metadata": {},
   "outputs": [],
   "source": []
  },
  {
   "cell_type": "markdown",
   "id": "91c6dbd2",
   "metadata": {},
   "source": [
    "**Задание 9**\n",
    "\n",
    "Выгрузите из таблицы ticket_flights все значения, которые удовлетворяют следующим критериям\n",
    "\n",
    "- Поле fare_conditions = Business\n",
    "\n",
    "\n",
    "- И поле amount > 40000"
   ]
  },
  {
   "cell_type": "code",
   "execution_count": null,
   "id": "acedad3a",
   "metadata": {},
   "outputs": [],
   "source": []
  },
  {
   "cell_type": "markdown",
   "id": "3fa4a4a3",
   "metadata": {},
   "source": [
    "**Задание 10**\n",
    "\n",
    "Выгрузите из таблицы ticket_flights все значения, которые удовлетворяют следующим критериям\n",
    "\n",
    "- Поле fare_conditions = Business OR Economy\n",
    "\n",
    "\n",
    "- И поле amount < 50000"
   ]
  },
  {
   "cell_type": "code",
   "execution_count": null,
   "id": "25196452",
   "metadata": {},
   "outputs": [],
   "source": []
  },
  {
   "cell_type": "markdown",
   "id": "cb71bdd1",
   "metadata": {},
   "source": [
    "**Задание 11**\n",
    "\n",
    "Выгрузите из таблицы flights_v все значения за исключением следующих городов прибытия \n",
    "\n",
    "- Уфа\n",
    "\n",
    "- Ульяновск\n",
    "\n",
    "- Челябинск\n",
    "\n",
    "- Салехард\n"
   ]
  },
  {
   "cell_type": "code",
   "execution_count": null,
   "id": "2acf6f10",
   "metadata": {},
   "outputs": [],
   "source": []
  },
  {
   "cell_type": "markdown",
   "id": "42be377d",
   "metadata": {},
   "source": [
    "**Задание 12**\n",
    "\n",
    "Выгрузите все поля из таблицы flights_v, которые удовлетиворяют следующим критериям\n",
    "\n",
    "- Время прилёта по расписанию,местное время в пункте прибытия в период с 2017-08-02 по 2017-08-20 включительно"
   ]
  },
  {
   "cell_type": "code",
   "execution_count": null,
   "id": "2bd5bcf4",
   "metadata": {},
   "outputs": [],
   "source": []
  },
  {
   "cell_type": "markdown",
   "id": "a449496d",
   "metadata": {},
   "source": [
    "**Задание 13** \n",
    "\n",
    "Из таблицы aircrafts_data выгрузите все значения, которые удовлетворяют следующим условиям\n",
    "\n",
    "- Максимальная дальность полета > 4000\n",
    "\n",
    "- И модель самолета Боинг 777-300"
   ]
  },
  {
   "cell_type": "code",
   "execution_count": null,
   "id": "36cceea2",
   "metadata": {},
   "outputs": [],
   "source": []
  }
 ],
 "metadata": {
  "kernelspec": {
   "display_name": "Python 3 (ipykernel)",
   "language": "python",
   "name": "python3"
  },
  "language_info": {
   "codemirror_mode": {
    "name": "ipython",
    "version": 3
   },
   "file_extension": ".py",
   "mimetype": "text/x-python",
   "name": "python",
   "nbconvert_exporter": "python",
   "pygments_lexer": "ipython3",
   "version": "3.9.12"
  }
 },
 "nbformat": 4,
 "nbformat_minor": 5
}
